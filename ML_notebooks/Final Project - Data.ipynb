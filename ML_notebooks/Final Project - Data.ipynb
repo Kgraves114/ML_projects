{
 "cells": [
  {
   "cell_type": "code",
   "execution_count": 1,
   "metadata": {},
   "outputs": [],
   "source": [
    "import numpy as np\n",
    "import pandas as pd\n",
    "import pickle as pkl"
   ]
  },
  {
   "cell_type": "code",
   "execution_count": 2,
   "metadata": {},
   "outputs": [],
   "source": [
    "# Import the dataset\n",
    "import urllib\n",
    "url='https://archive.ics.uci.edu/ml/machine-learning-databases/statlog/heart/heart.dat'\n",
    "raw_data=urllib.request.urlopen(url)\n",
    "ds=np.loadtxt(raw_data,delimiter=' ')\n",
    "df = pd.DataFrame(ds)"
   ]
  },
  {
   "cell_type": "code",
   "execution_count": null,
   "metadata": {},
   "outputs": [],
   "source": [
    "#putting data to pickle for later use\n",
    "df.to_pickle(\"heartDisease.pkl\")"
   ]
  },
  {
   "cell_type": "code",
   "execution_count": 4,
   "metadata": {},
   "outputs": [
    {
     "data": {
      "text/plain": [
       "False"
      ]
     },
     "execution_count": 4,
     "metadata": {},
     "output_type": "execute_result"
    }
   ],
   "source": [
    "# check for null values\n",
    "df.isnull().values.any()"
   ]
  },
  {
   "cell_type": "code",
   "execution_count": 16,
   "metadata": {},
   "outputs": [],
   "source": [
    "# add headers to the dataset\n",
    "X=pd.DataFrame(df.values, columns=['Age','Sex','Chest Pain', 'Resting BP', 'Cholesterol',\n",
    "                                   'Fasting Blood Sugar >120', 'ECG Results', 'Max HR', 'Angina', 'Old Peak',\n",
    "                                   'ST Slope', 'Dx Vessels', 'Thal', 'Presence of Heart Disease'])"
   ]
  },
  {
   "cell_type": "code",
   "execution_count": 17,
   "metadata": {},
   "outputs": [
    {
     "data": {
      "text/html": [
       "<div>\n",
       "<style scoped>\n",
       "    .dataframe tbody tr th:only-of-type {\n",
       "        vertical-align: middle;\n",
       "    }\n",
       "\n",
       "    .dataframe tbody tr th {\n",
       "        vertical-align: top;\n",
       "    }\n",
       "\n",
       "    .dataframe thead th {\n",
       "        text-align: right;\n",
       "    }\n",
       "</style>\n",
       "<table border=\"1\" class=\"dataframe\">\n",
       "  <thead>\n",
       "    <tr style=\"text-align: right;\">\n",
       "      <th></th>\n",
       "      <th>Age</th>\n",
       "      <th>Sex</th>\n",
       "      <th>Chest Pain</th>\n",
       "      <th>Resting BP</th>\n",
       "      <th>Cholesterol</th>\n",
       "      <th>Fasting Blood Sugar &gt;120</th>\n",
       "      <th>ECG Results</th>\n",
       "      <th>Max HR</th>\n",
       "      <th>Angina</th>\n",
       "      <th>Old Peak</th>\n",
       "      <th>ST Slope</th>\n",
       "      <th>Dx Vessels</th>\n",
       "      <th>Thal</th>\n",
       "      <th>Presence of Heart Disease</th>\n",
       "    </tr>\n",
       "  </thead>\n",
       "  <tbody>\n",
       "    <tr>\n",
       "      <th>0</th>\n",
       "      <td>70.0</td>\n",
       "      <td>1.0</td>\n",
       "      <td>4.0</td>\n",
       "      <td>130.0</td>\n",
       "      <td>322.0</td>\n",
       "      <td>0.0</td>\n",
       "      <td>2.0</td>\n",
       "      <td>109.0</td>\n",
       "      <td>0.0</td>\n",
       "      <td>2.4</td>\n",
       "      <td>2.0</td>\n",
       "      <td>3.0</td>\n",
       "      <td>3.0</td>\n",
       "      <td>2.0</td>\n",
       "    </tr>\n",
       "    <tr>\n",
       "      <th>1</th>\n",
       "      <td>67.0</td>\n",
       "      <td>0.0</td>\n",
       "      <td>3.0</td>\n",
       "      <td>115.0</td>\n",
       "      <td>564.0</td>\n",
       "      <td>0.0</td>\n",
       "      <td>2.0</td>\n",
       "      <td>160.0</td>\n",
       "      <td>0.0</td>\n",
       "      <td>1.6</td>\n",
       "      <td>2.0</td>\n",
       "      <td>0.0</td>\n",
       "      <td>7.0</td>\n",
       "      <td>1.0</td>\n",
       "    </tr>\n",
       "    <tr>\n",
       "      <th>2</th>\n",
       "      <td>57.0</td>\n",
       "      <td>1.0</td>\n",
       "      <td>2.0</td>\n",
       "      <td>124.0</td>\n",
       "      <td>261.0</td>\n",
       "      <td>0.0</td>\n",
       "      <td>0.0</td>\n",
       "      <td>141.0</td>\n",
       "      <td>0.0</td>\n",
       "      <td>0.3</td>\n",
       "      <td>1.0</td>\n",
       "      <td>0.0</td>\n",
       "      <td>7.0</td>\n",
       "      <td>2.0</td>\n",
       "    </tr>\n",
       "    <tr>\n",
       "      <th>3</th>\n",
       "      <td>64.0</td>\n",
       "      <td>1.0</td>\n",
       "      <td>4.0</td>\n",
       "      <td>128.0</td>\n",
       "      <td>263.0</td>\n",
       "      <td>0.0</td>\n",
       "      <td>0.0</td>\n",
       "      <td>105.0</td>\n",
       "      <td>1.0</td>\n",
       "      <td>0.2</td>\n",
       "      <td>2.0</td>\n",
       "      <td>1.0</td>\n",
       "      <td>7.0</td>\n",
       "      <td>1.0</td>\n",
       "    </tr>\n",
       "    <tr>\n",
       "      <th>4</th>\n",
       "      <td>74.0</td>\n",
       "      <td>0.0</td>\n",
       "      <td>2.0</td>\n",
       "      <td>120.0</td>\n",
       "      <td>269.0</td>\n",
       "      <td>0.0</td>\n",
       "      <td>2.0</td>\n",
       "      <td>121.0</td>\n",
       "      <td>1.0</td>\n",
       "      <td>0.2</td>\n",
       "      <td>1.0</td>\n",
       "      <td>1.0</td>\n",
       "      <td>3.0</td>\n",
       "      <td>1.0</td>\n",
       "    </tr>\n",
       "  </tbody>\n",
       "</table>\n",
       "</div>"
      ],
      "text/plain": [
       "    Age  Sex  Chest Pain  Resting BP  Cholesterol  Fasting Blood Sugar >120  \\\n",
       "0  70.0  1.0         4.0       130.0        322.0                       0.0   \n",
       "1  67.0  0.0         3.0       115.0        564.0                       0.0   \n",
       "2  57.0  1.0         2.0       124.0        261.0                       0.0   \n",
       "3  64.0  1.0         4.0       128.0        263.0                       0.0   \n",
       "4  74.0  0.0         2.0       120.0        269.0                       0.0   \n",
       "\n",
       "   ECG Results  Max HR  Angina  Old Peak  ST Slope  Dx Vessels  Thal  \\\n",
       "0          2.0   109.0     0.0       2.4       2.0         3.0   3.0   \n",
       "1          2.0   160.0     0.0       1.6       2.0         0.0   7.0   \n",
       "2          0.0   141.0     0.0       0.3       1.0         0.0   7.0   \n",
       "3          0.0   105.0     1.0       0.2       2.0         1.0   7.0   \n",
       "4          2.0   121.0     1.0       0.2       1.0         1.0   3.0   \n",
       "\n",
       "   Presence of Heart Disease  \n",
       "0                        2.0  \n",
       "1                        1.0  \n",
       "2                        2.0  \n",
       "3                        1.0  \n",
       "4                        1.0  "
      ]
     },
     "execution_count": 17,
     "metadata": {},
     "output_type": "execute_result"
    }
   ],
   "source": [
    "X.head()"
   ]
  },
  {
   "cell_type": "code",
   "execution_count": null,
   "metadata": {},
   "outputs": [],
   "source": []
  },
  {
   "cell_type": "code",
   "execution_count": 23,
   "metadata": {},
   "outputs": [
    {
     "name": "stdout",
     "output_type": "stream",
     "text": [
      "Average age: 54.43333333333333, and Standard deviation: 9.109066523898203\n"
     ]
    }
   ],
   "source": [
    "print('Average age: {}, and Standard deviation: {}'.format(X['Age'].mean(), X['Age'].std()))"
   ]
  },
  {
   "cell_type": "code",
   "execution_count": 28,
   "metadata": {},
   "outputs": [
    {
     "name": "stdout",
     "output_type": "stream",
     "text": [
      "Percent male: 67.77777777777779%\n"
     ]
    }
   ],
   "source": [
    "print('Percent male: {}%'.format((X['Sex']==1).sum()/len(X)*100))"
   ]
  },
  {
   "cell_type": "code",
   "execution_count": 36,
   "metadata": {},
   "outputs": [
    {
     "name": "stdout",
     "output_type": "stream",
     "text": [
      "Percentage breakdown of chest pain: 1: 7.4074074074074066 2: 15.555555555555555 3: 29.259259259259256 4: 47.77777777777778\n"
     ]
    }
   ],
   "source": [
    "print('Percentage breakdown of chest pain: 1: {} 2: {} 3: {} 4: {}'.format((X['Chest Pain']==1).sum()/len(X)*100,\n",
    "     (X['Chest Pain']==2).sum()/len(X)*100, (X['Chest Pain']==3).sum()/len(X)*100, (X['Chest Pain']==4).sum()/len(X)*100))"
   ]
  },
  {
   "cell_type": "code",
   "execution_count": 37,
   "metadata": {},
   "outputs": [
    {
     "name": "stdout",
     "output_type": "stream",
     "text": [
      "Average resting systolic BP: 131.34444444444443, and Standard deviation: 17.861608292800856\n"
     ]
    }
   ],
   "source": [
    "print('Average resting systolic BP: {}, and Standard deviation: {}'.format(X['Resting BP'].mean(), X['Resting BP'].std()))"
   ]
  },
  {
   "cell_type": "code",
   "execution_count": 38,
   "metadata": {},
   "outputs": [
    {
     "name": "stdout",
     "output_type": "stream",
     "text": [
      "Average cholesterol: 249.65925925925927, and Standard deviation: 51.68623711643128\n"
     ]
    }
   ],
   "source": [
    "print('Average cholesterol: {}, and Standard deviation: {}'.format(X['Cholesterol'].mean(), X['Cholesterol'].std()))"
   ]
  },
  {
   "cell_type": "code",
   "execution_count": 41,
   "metadata": {},
   "outputs": [
    {
     "name": "stdout",
     "output_type": "stream",
     "text": [
      "Percent with fasting glucose >120: 14.814814814814813%\n"
     ]
    }
   ],
   "source": [
    "print('Percent with fasting glucose >120: {}%'.format((X['Fasting Blood Sugar >120']==1).sum()/len(X)*100))"
   ]
  },
  {
   "cell_type": "code",
   "execution_count": 42,
   "metadata": {},
   "outputs": [
    {
     "name": "stdout",
     "output_type": "stream",
     "text": [
      "Average max HR: 149.67777777777778, and Standard deviation: 23.16571677512009\n"
     ]
    }
   ],
   "source": [
    "print('Average max HR: {}, and Standard deviation: {}'.format(X['Max HR'].mean(), X['Max HR'].std()))"
   ]
  },
  {
   "cell_type": "code",
   "execution_count": 43,
   "metadata": {},
   "outputs": [
    {
     "name": "stdout",
     "output_type": "stream",
     "text": [
      "Percent with angina: 32.96296296296296%\n"
     ]
    }
   ],
   "source": [
    "print('Percent with angina: {}%'.format((X['Angina']==1).sum()/len(X)*100))"
   ]
  },
  {
   "cell_type": "code",
   "execution_count": 44,
   "metadata": {},
   "outputs": [
    {
     "name": "stdout",
     "output_type": "stream",
     "text": [
      "Average Old Peak: 1.0499999999999996, and Standard deviation: 1.1452098393779975\n"
     ]
    }
   ],
   "source": [
    "print('Average Old Peak: {}, and Standard deviation: {}'.format(X['Old Peak'].mean(), X['Old Peak'].std()))"
   ]
  },
  {
   "cell_type": "code",
   "execution_count": 45,
   "metadata": {},
   "outputs": [
    {
     "name": "stdout",
     "output_type": "stream",
     "text": [
      "Average ST Slope: 1.5851851851851853, and Standard deviation: 0.61438983767813\n"
     ]
    }
   ],
   "source": [
    "print('Average ST Slope: {}, and Standard deviation: {}'.format(X['ST Slope'].mean(), X['ST Slope'].std()))"
   ]
  },
  {
   "cell_type": "code",
   "execution_count": 57,
   "metadata": {},
   "outputs": [
    {
     "name": "stdout",
     "output_type": "stream",
     "text": [
      "Positive class (Presence of): 120\n",
      "Negative class (Absence of): 150\n"
     ]
    }
   ],
   "source": [
    "print(\"Positive class (Presence of): {}\".format((X['Presence of Heart Disease']==2).sum()))\n",
    "print(\"Negative class (Absence of): {}\".format((X['Presence of Heart Disease']==1).sum()))"
   ]
  },
  {
   "cell_type": "code",
   "execution_count": 58,
   "metadata": {},
   "outputs": [
    {
     "name": "stdout",
     "output_type": "stream",
     "text": [
      "Percentage breakdown of diseased vessels: 0: 59.25925925925925 1: 21.48148148148148 2: 12.222222222222221 3: 7.037037037037037\n"
     ]
    }
   ],
   "source": [
    "print('Percentage breakdown of diseased vessels: 0: {} 1: {} 2: {} 3: {}'.format((X['Dx Vessels']==0).sum()/len(X)*100,\n",
    "     (X['Dx Vessels']==1).sum()/len(X)*100, (X['Dx Vessels']==2).sum()/len(X)*100, (X['Dx Vessels']==3).sum()/len(X)*100))"
   ]
  },
  {
   "cell_type": "code",
   "execution_count": 80,
   "metadata": {},
   "outputs": [],
   "source": [
    "HD2 = df[X['Presence of Heart Disease'] == 2]\n",
    "HD1 = df[X['Presence of Heart Disease'] == 1]"
   ]
  },
  {
   "cell_type": "code",
   "execution_count": 75,
   "metadata": {},
   "outputs": [
    {
     "data": {
      "text/html": [
       "<div>\n",
       "<style scoped>\n",
       "    .dataframe tbody tr th:only-of-type {\n",
       "        vertical-align: middle;\n",
       "    }\n",
       "\n",
       "    .dataframe tbody tr th {\n",
       "        vertical-align: top;\n",
       "    }\n",
       "\n",
       "    .dataframe thead th {\n",
       "        text-align: right;\n",
       "    }\n",
       "</style>\n",
       "<table border=\"1\" class=\"dataframe\">\n",
       "  <thead>\n",
       "    <tr style=\"text-align: right;\">\n",
       "      <th></th>\n",
       "      <th>0</th>\n",
       "      <th>1</th>\n",
       "      <th>2</th>\n",
       "      <th>3</th>\n",
       "      <th>4</th>\n",
       "      <th>5</th>\n",
       "      <th>6</th>\n",
       "      <th>7</th>\n",
       "      <th>8</th>\n",
       "      <th>9</th>\n",
       "      <th>10</th>\n",
       "      <th>11</th>\n",
       "      <th>12</th>\n",
       "      <th>13</th>\n",
       "    </tr>\n",
       "  </thead>\n",
       "  <tbody>\n",
       "    <tr>\n",
       "      <th>0</th>\n",
       "      <td>70.0</td>\n",
       "      <td>1.0</td>\n",
       "      <td>4.0</td>\n",
       "      <td>130.0</td>\n",
       "      <td>322.0</td>\n",
       "      <td>0.0</td>\n",
       "      <td>2.0</td>\n",
       "      <td>109.0</td>\n",
       "      <td>0.0</td>\n",
       "      <td>2.4</td>\n",
       "      <td>2.0</td>\n",
       "      <td>3.0</td>\n",
       "      <td>3.0</td>\n",
       "      <td>2.0</td>\n",
       "    </tr>\n",
       "    <tr>\n",
       "      <th>2</th>\n",
       "      <td>57.0</td>\n",
       "      <td>1.0</td>\n",
       "      <td>2.0</td>\n",
       "      <td>124.0</td>\n",
       "      <td>261.0</td>\n",
       "      <td>0.0</td>\n",
       "      <td>0.0</td>\n",
       "      <td>141.0</td>\n",
       "      <td>0.0</td>\n",
       "      <td>0.3</td>\n",
       "      <td>1.0</td>\n",
       "      <td>0.0</td>\n",
       "      <td>7.0</td>\n",
       "      <td>2.0</td>\n",
       "    </tr>\n",
       "    <tr>\n",
       "      <th>6</th>\n",
       "      <td>56.0</td>\n",
       "      <td>1.0</td>\n",
       "      <td>3.0</td>\n",
       "      <td>130.0</td>\n",
       "      <td>256.0</td>\n",
       "      <td>1.0</td>\n",
       "      <td>2.0</td>\n",
       "      <td>142.0</td>\n",
       "      <td>1.0</td>\n",
       "      <td>0.6</td>\n",
       "      <td>2.0</td>\n",
       "      <td>1.0</td>\n",
       "      <td>6.0</td>\n",
       "      <td>2.0</td>\n",
       "    </tr>\n",
       "    <tr>\n",
       "      <th>7</th>\n",
       "      <td>59.0</td>\n",
       "      <td>1.0</td>\n",
       "      <td>4.0</td>\n",
       "      <td>110.0</td>\n",
       "      <td>239.0</td>\n",
       "      <td>0.0</td>\n",
       "      <td>2.0</td>\n",
       "      <td>142.0</td>\n",
       "      <td>1.0</td>\n",
       "      <td>1.2</td>\n",
       "      <td>2.0</td>\n",
       "      <td>1.0</td>\n",
       "      <td>7.0</td>\n",
       "      <td>2.0</td>\n",
       "    </tr>\n",
       "    <tr>\n",
       "      <th>8</th>\n",
       "      <td>60.0</td>\n",
       "      <td>1.0</td>\n",
       "      <td>4.0</td>\n",
       "      <td>140.0</td>\n",
       "      <td>293.0</td>\n",
       "      <td>0.0</td>\n",
       "      <td>2.0</td>\n",
       "      <td>170.0</td>\n",
       "      <td>0.0</td>\n",
       "      <td>1.2</td>\n",
       "      <td>2.0</td>\n",
       "      <td>2.0</td>\n",
       "      <td>7.0</td>\n",
       "      <td>2.0</td>\n",
       "    </tr>\n",
       "  </tbody>\n",
       "</table>\n",
       "</div>"
      ],
      "text/plain": [
       "     0    1    2      3      4    5    6      7    8    9    10   11   12   13\n",
       "0  70.0  1.0  4.0  130.0  322.0  0.0  2.0  109.0  0.0  2.4  2.0  3.0  3.0  2.0\n",
       "2  57.0  1.0  2.0  124.0  261.0  0.0  0.0  141.0  0.0  0.3  1.0  0.0  7.0  2.0\n",
       "6  56.0  1.0  3.0  130.0  256.0  1.0  2.0  142.0  1.0  0.6  2.0  1.0  6.0  2.0\n",
       "7  59.0  1.0  4.0  110.0  239.0  0.0  2.0  142.0  1.0  1.2  2.0  1.0  7.0  2.0\n",
       "8  60.0  1.0  4.0  140.0  293.0  0.0  2.0  170.0  0.0  1.2  2.0  2.0  7.0  2.0"
      ]
     },
     "execution_count": 75,
     "metadata": {},
     "output_type": "execute_result"
    }
   ],
   "source": [
    "HD2.head()"
   ]
  },
  {
   "cell_type": "code",
   "execution_count": 81,
   "metadata": {},
   "outputs": [
    {
     "name": "stdout",
     "output_type": "stream",
     "text": [
      "Average age: 56.59166666666667, and Standard deviation: 8.116272515867164\n"
     ]
    }
   ],
   "source": [
    "print('Average age: {}, and Standard deviation: {}'.format(HD2[0].mean(), HD2[0].std()))"
   ]
  },
  {
   "cell_type": "code",
   "execution_count": 82,
   "metadata": {},
   "outputs": [
    {
     "name": "stdout",
     "output_type": "stream",
     "text": [
      "Average age: 52.70666666666666, and Standard deviation: 9.509830072559057\n"
     ]
    }
   ],
   "source": [
    "print('Average age: {}, and Standard deviation: {}'.format(HD1[0].mean(), HD1[0].std()))"
   ]
  },
  {
   "cell_type": "code",
   "execution_count": 84,
   "metadata": {},
   "outputs": [
    {
     "name": "stdout",
     "output_type": "stream",
     "text": [
      "Percent male: 83.33333333333334%\n"
     ]
    }
   ],
   "source": [
    "print('Percent male: {}%'.format((HD2[1]==1).sum()/len(HD2)*100))"
   ]
  },
  {
   "cell_type": "code",
   "execution_count": 85,
   "metadata": {},
   "outputs": [
    {
     "name": "stdout",
     "output_type": "stream",
     "text": [
      "Percent male: 55.333333333333336%\n"
     ]
    }
   ],
   "source": [
    "print('Percent male: {}%'.format((HD1[1]==1).sum()/len(HD1)*100))"
   ]
  },
  {
   "cell_type": "code",
   "execution_count": 86,
   "metadata": {},
   "outputs": [
    {
     "name": "stdout",
     "output_type": "stream",
     "text": [
      "Average resting systolic BP: 134.44166666666666, and Standard deviation: 19.095424166266525\n"
     ]
    }
   ],
   "source": [
    "print('Average resting systolic BP: {}, and Standard deviation: {}'.format(HD2[3].mean(), HD2[3].std()))"
   ]
  },
  {
   "cell_type": "code",
   "execution_count": 87,
   "metadata": {},
   "outputs": [
    {
     "name": "stdout",
     "output_type": "stream",
     "text": [
      "Average resting systolic BP: 128.86666666666667, and Standard deviation: 16.457660408750506\n"
     ]
    }
   ],
   "source": [
    "print('Average resting systolic BP: {}, and Standard deviation: {}'.format(HD1[3].mean(), HD1[3].std()))"
   ]
  },
  {
   "cell_type": "code",
   "execution_count": 88,
   "metadata": {},
   "outputs": [
    {
     "name": "stdout",
     "output_type": "stream",
     "text": [
      "Average cholesterol: 256.46666666666664, and Standard deviation: 47.96916610030388\n"
     ]
    }
   ],
   "source": [
    "print('Average cholesterol: {}, and Standard deviation: {}'.format(HD2[4].mean(), HD2[4].std()))"
   ]
  },
  {
   "cell_type": "code",
   "execution_count": 89,
   "metadata": {},
   "outputs": [
    {
     "name": "stdout",
     "output_type": "stream",
     "text": [
      "Average cholesterol: 244.21333333333334, and Standard deviation: 54.019085201394574\n"
     ]
    }
   ],
   "source": [
    "print('Average cholesterol: {}, and Standard deviation: {}'.format(HD1[4].mean(), HD1[4].std()))"
   ]
  },
  {
   "cell_type": "code",
   "execution_count": 90,
   "metadata": {},
   "outputs": [
    {
     "name": "stdout",
     "output_type": "stream",
     "text": [
      "Percent with fasting glucose >120: 14.166666666666666%\n"
     ]
    }
   ],
   "source": [
    "print('Percent with fasting glucose >120: {}%'.format((HD2[5]==1).sum()/len(HD2)*100))"
   ]
  },
  {
   "cell_type": "code",
   "execution_count": 91,
   "metadata": {},
   "outputs": [
    {
     "name": "stdout",
     "output_type": "stream",
     "text": [
      "Percent with fasting glucose >120: 15.333333333333332%\n"
     ]
    }
   ],
   "source": [
    "print('Percent with fasting glucose >120: {}%'.format((HD1[5]==1).sum()/len(HD1)*100))"
   ]
  },
  {
   "cell_type": "code",
   "execution_count": 92,
   "metadata": {},
   "outputs": [
    {
     "name": "stdout",
     "output_type": "stream",
     "text": [
      "Average max HR: 138.85833333333332, and Standard deviation: 23.130719445638288\n"
     ]
    }
   ],
   "source": [
    "print('Average max HR: {}, and Standard deviation: {}'.format(HD2[7].mean(), HD2[7].std()))"
   ]
  },
  {
   "cell_type": "code",
   "execution_count": 93,
   "metadata": {},
   "outputs": [
    {
     "name": "stdout",
     "output_type": "stream",
     "text": [
      "Average max HR: 158.33333333333334, and Standard deviation: 19.28335745456061\n"
     ]
    }
   ],
   "source": [
    "print('Average max HR: {}, and Standard deviation: {}'.format(HD1[7].mean(), HD1[7].std()))"
   ]
  },
  {
   "cell_type": "code",
   "execution_count": 94,
   "metadata": {},
   "outputs": [
    {
     "name": "stdout",
     "output_type": "stream",
     "text": [
      "Percent with angina: 55.00000000000001%\n"
     ]
    }
   ],
   "source": [
    "print('Percent with angina: {}%'.format((HD2[8]==1).sum()/len(HD2)*100))"
   ]
  },
  {
   "cell_type": "code",
   "execution_count": 95,
   "metadata": {},
   "outputs": [
    {
     "name": "stdout",
     "output_type": "stream",
     "text": [
      "Percent with angina: 19.166666666666668%\n"
     ]
    }
   ],
   "source": [
    "print('Percent with angina: {}%'.format((HD1[8]==1).sum()/len(HD2)*100))"
   ]
  },
  {
   "cell_type": "code",
   "execution_count": 96,
   "metadata": {},
   "outputs": [
    {
     "name": "stdout",
     "output_type": "stream",
     "text": [
      "Percentage breakdown of diseased vessels: 0: 33.33333333333333 1: 31.666666666666664 2: 21.666666666666668 3: 13.333333333333334\n"
     ]
    }
   ],
   "source": [
    "print('Percentage breakdown of diseased vessels: 0: {} 1: {} 2: {} 3: {}'.format((HD2[11]==0).sum()/len(HD2)*100,\n",
    "     (HD2[11]==1).sum()/len(HD2)*100, (HD2[11]==2).sum()/len(HD2)*100, (HD2[11]==3).sum()/len(HD2)*100))"
   ]
  },
  {
   "cell_type": "code",
   "execution_count": 97,
   "metadata": {},
   "outputs": [
    {
     "name": "stdout",
     "output_type": "stream",
     "text": [
      "Percentage breakdown of diseased vessels: 0: 80.0 1: 13.333333333333334 2: 4.666666666666667 3: 2.0\n"
     ]
    }
   ],
   "source": [
    "print('Percentage breakdown of diseased vessels: 0: {} 1: {} 2: {} 3: {}'.format((HD1[11]==0).sum()/len(HD1)*100,\n",
    "     (HD1[11]==1).sum()/len(HD1)*100, (HD1[11]==2).sum()/len(HD1)*100, (HD1[11]==3).sum()/len(HD1)*100))"
   ]
  },
  {
   "cell_type": "code",
   "execution_count": null,
   "metadata": {},
   "outputs": [],
   "source": []
  }
 ],
 "metadata": {
  "kernelspec": {
   "display_name": "Python 3",
   "language": "python",
   "name": "python3"
  },
  "language_info": {
   "codemirror_mode": {
    "name": "ipython",
    "version": 3
   },
   "file_extension": ".py",
   "mimetype": "text/x-python",
   "name": "python",
   "nbconvert_exporter": "python",
   "pygments_lexer": "ipython3",
   "version": "3.6.6"
  }
 },
 "nbformat": 4,
 "nbformat_minor": 2
}
